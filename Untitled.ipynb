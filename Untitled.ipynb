{
 "cells": [
  {
   "cell_type": "code",
   "execution_count": 34,
   "metadata": {},
   "outputs": [
    {
     "name": "stdout",
     "output_type": "stream",
     "text": [
      "('Fig is: ', array([ 3.,  0.,  0.,  0.,  0.,  8.,  0.,  0.,  0., 42.]))\n"
     ]
    },
    {
     "data": {
      "image/png": "[encoded data removed]",
      "text/plain": [
       "<Figure size 720x720 with 1 Axes>"
      ]
     },
     "metadata": {},
     "output_type": "display_data"
    }
   ],
   "source": [
    "import matplotlib.pyplot as pl\n",
    "\n",
    "\n",
    "#title1=\"Class0 num: \"+str(num_in_class0)+\" Class1 num: \"+str(num_in_class1)+\" Num. of 30% intersections: \"+str(num_intersections_in30)\n",
    "#plot_title= \"histograms/\"+file1+\"_\"+file2+\".png\"\n",
    "scores1=[1,1,1,2,2,2,2,2,2,2,2,3,3,3,3,3,3,3,3,3,3,3,3,3,3,3,3,3,3,3,3,3,3,3,3,3,3,3,3,3,3,3,3,3,3,3,3,3,3,3,3,3,3]\n",
    "scores2=[1,1,1,2,2,2,2,2,2,2,2,2,3,3,3,3,3]\n",
    "pl.figure(figsize=(10,10))\n",
    "n1,bins1,patches1 = pl.hist(scores1,bins=10, density = False, edgecolor='black', alpha = 0.5)\n",
    "n2,bins2,patches2 = pl.hist(scores2,bins=10, density = False, edgecolor='black',alpha = 0.5)\n",
    "print(\"Fig is: \",n)\n",
    "for p in patches1:\n",
    "    pl.text(p.get_x() + p.get_width()/2., p.get_height(), '%d' % int(p.get_height()), \n",
    "            fontsize=12, color='red', ha='center', va='bottom')\n",
    "for p in patches2:\n",
    "    pl.text(p.get_x() + p.get_width()/2., p.get_height(), '%d' % int(p.get_height()), \n",
    "            fontsize=12, color='red', ha='center', va='bottom')\n",
    "#labels = [i for i in range(len(n))]\n",
    "\n",
    "# for rect, label in zip(rects, labels):\n",
    "#     height = rect.get_height()\n",
    "#     ax.text(rect.get_x() + rect.get_width() / 2, height + 5, label,\n",
    "#             ha='center', va='bottom')\n",
    "# pl.title('hello')\n",
    "# pl.xlabel(\"Predicted probabilities\")\n",
    "# pl.ylabel(\"Frequency\")\n",
    "# pl.show()\n",
    "#pl.savefig(plot_title)\n",
    "# pl.clf()\n",
    "        "
   ]
  },
  {
   "cell_type": "code",
   "execution_count": 13,
   "metadata": {},
   "outputs": [],
   "source": [
    "import seaborn as sns"
   ]
  },
  {
   "cell_type": "code",
   "execution_count": 22,
   "metadata": {},
   "outputs": [
    {
     "name": "stderr",
     "output_type": "stream",
     "text": [
      "/home/abhinav/anaconda2/lib/python2.7/site-packages/matplotlib/axes/_axes.py:6462: UserWarning: The 'normed' kwarg is deprecated, and has been replaced by the 'density' kwarg.\n",
      "  warnings.warn(\"The 'normed' kwarg is deprecated, and has been \"\n"
     ]
    },
    {
     "data": {
      "image/png": "[encoded data removed]",
      "text/plain": [
       "<Figure size 432x288 with 1 Axes>"
      ]
     },
     "metadata": {},
     "output_type": "display_data"
    }
   ],
   "source": [
    "ax=sns.distplot(scores,kde = False,rug=True)\n",
    "for p in ax.patches:\n",
    "    ax.text(p.get_x() + p.get_width()/2., p.get_height(), '%d' % int(p.get_height()), \n",
    "            fontsize=12, color='red', ha='center', va='bottom')"
   ]
  },
  {
   "cell_type": "code",
   "execution_count": null,
   "metadata": {},
   "outputs": [],
   "source": []
  }
 ],
 "metadata": {
  "kernelspec": {
   "display_name": "Python 2",
   "language": "python",
   "name": "python2"
  },
  "language_info": {
   "codemirror_mode": {
    "name": "ipython",
    "version": 2
   },
   "file_extension": ".py",
   "mimetype": "text/x-python",
   "name": "python",
   "nbconvert_exporter": "python",
   "pygments_lexer": "ipython2",
   "version": "2.7.15"
  }
 },
 "nbformat": 4,
 "nbformat_minor": 2
}
