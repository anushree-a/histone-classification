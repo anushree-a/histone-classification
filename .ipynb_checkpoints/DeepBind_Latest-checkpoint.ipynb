{
 "cells": [
  {
   "cell_type": "code",
   "execution_count": 1,
   "metadata": {},
   "outputs": [
    {
     "name": "stderr",
     "output_type": "stream",
     "text": [
      "/home/abhinav/anaconda2/lib/python2.7/site-packages/h5py/__init__.py:36: FutureWarning: Conversion of the second argument of issubdtype from `float` to `np.floating` is deprecated. In future, it will be treated as `np.float64 == np.dtype(float).type`.\n",
      "  from ._conv import register_converters as _register_converters\n",
      "Using TensorFlow backend.\n"
     ]
    },
    {
     "name": "stdout",
     "output_type": "stream",
     "text": [
      "importing Jupyter notebook from Pipeline_Latest.ipynb\n"
     ]
    }
   ],
   "source": [
    "import numpy as np\n",
    "import pandas as pd\n",
    "import keras\n",
    "import warnings\n",
    "import import_ipynb\n",
    "import Pipeline_Latest as pp2\n",
    "import json\n",
    "    \n",
    "warnings.filterwarnings(\"ignore\")\n"
   ]
  },
  {
   "cell_type": "code",
   "execution_count": 2,
   "metadata": {},
   "outputs": [],
   "source": [
    "def one_hot_encode(s):\n",
    "    i=0\n",
    "    \n",
    "    dict_i = {\"A\" : 0, \"C\": 1, \"G\": 2, \"T\" : 3,\"a\":0, \"c\":1, \"g\":2, \"t\":3}\n",
    "    ohe = np.zeros((len(s), 4))\n",
    "    \n",
    "    for k in s:\n",
    "        \n",
    "        if k=='N' or k=='n':\n",
    "            ohe[i,0] = 0.25\n",
    "            ohe[i,1] = 0.25\n",
    "            ohe[i,2] = 0.25\n",
    "            ohe[i,3] = 0.25\n",
    "            \n",
    "        else:\n",
    "            ohe[i,dict_i[k]] = 1\n",
    "        i+=1\n",
    "    return ohe"
   ]
  },
  {
   "cell_type": "code",
   "execution_count": 3,
   "metadata": {},
   "outputs": [],
   "source": [
    "def deepbind1(df_train, df_test,count):\n",
    "    \n",
    "    \n",
    "    print(\"Shape is: \",df_train.shape)\n",
    "    \n",
    "    temp_sequences=df_train['seq']\n",
    "    temp_target=df_train['target']\n",
    "    \n",
    "    \n",
    "    ohe_sequences = np.array([one_hot_encode(s) for s in temp_sequences])\n",
    "    print ohe_sequences\n",
    "    ohe_sequences.shape\n",
    "    \n",
    "    from keras.models import Sequential\n",
    "    from keras.layers import Dense\n",
    "    from keras.layers import Conv1D\n",
    "    from keras.layers import MaxPooling1D\n",
    "    from keras.layers import Dropout,Flatten\n",
    "    from sklearn.utils import shuffle\n",
    "    from sklearn.model_selection import train_test_split\n",
    "\n",
    "    model = Sequential()\n",
    "    model.add(Conv1D(filters=10, kernel_size=20, activation='relu', input_shape=(200,4)))\n",
    "    model.summary()\n",
    "\n",
    "    model.add(MaxPooling1D(pool_size=10, strides=10))\n",
    "    model.add(Flatten())\n",
    "    \n",
    "    model.add(Dense(200,  activation='relu'))\n",
    "    \n",
    "    model.add(Dense(1, activation = \"sigmoid\"))\n",
    "    \n",
    "    model.summary()\n",
    "    \n",
    "    model.compile(loss='binary_crossentropy', optimizer='Adam', metrics=['accuracy'])\n",
    "    \n",
    "    data_train, data_test, labels_train, labels_test = train_test_split(ohe_sequences, temp_target, test_size=0, random_state=42, shuffle=True)\n",
    "    \n",
    "    model.fit(data_train, labels_train, epochs=5, verbose=1)\n",
    "    \n",
    "    \n",
    "    #adding 30% test data stuff\n",
    "    temp_sequences_test=df_test['seq']\n",
    "    temp_target_test=df_test['target']\n",
    "    \n",
    "    \n",
    "    ohe_sequences_test = np.array([one_hot_encode(s) for s in temp_sequences_test])\n",
    "    print ohe_sequences_test\n",
    "    \n",
    "    #data_test= ohe_sequences_test\n",
    "    \n",
    "    #returning to normal deepbind\n",
    "    \n",
    "#     scores = model.evaluate(data_test, labels_test)\n",
    "#     print (\"Test loss \", scores[0])\n",
    "#     print (\"Test acc \", scores[1])\n",
    "\n",
    "    scores= model.predict(ohe_sequences_test, batch_size=None, verbose=1, steps=None)\n",
    "    print scores\n",
    "    \n",
    "#     model.save_weights(\"modelweights/model_\"+str(count)+\"_weights.h5\")\n",
    "#     my_json_string = model.to_json()\n",
    "#     jsonData = json.loads(my_json_string)\n",
    "#     print jsonData[\"config\"]\n",
    "#     with open(\"models/model_\"+str(count)+\".json\", \"w\") as json_file:\n",
    "#         json_file.write(my_json_string)\n",
    "\n",
    "    from sklearn.metrics import roc_curve\n",
    "    keras_model= model\n",
    "    y_pred_keras = keras_model.predict(ohe_sequences_test).ravel()\n",
    "    fpr_keras, tpr_keras, thresholds_keras = roc_curve(temp_target_test, y_pred_keras)\n",
    "    \n",
    "    from sklearn.metrics import auc\n",
    "    auc_keras = auc(fpr_keras, tpr_keras)\n",
    "\n",
    "    return auc_keras,scores"
   ]
  },
  {
   "cell_type": "code",
   "execution_count": null,
   "metadata": {},
   "outputs": [],
   "source": []
  },
  {
   "cell_type": "code",
   "execution_count": null,
   "metadata": {},
   "outputs": [],
   "source": []
  },
  {
   "cell_type": "code",
   "execution_count": null,
   "metadata": {},
   "outputs": [],
   "source": []
  },
  {
   "cell_type": "code",
   "execution_count": null,
   "metadata": {},
   "outputs": [],
   "source": []
  }
 ],
 "metadata": {
  "kernelspec": {
   "display_name": "Python 2",
   "language": "python",
   "name": "python2"
  },
  "language_info": {
   "codemirror_mode": {
    "name": "ipython",
    "version": 2
   },
   "file_extension": ".py",
   "mimetype": "text/x-python",
   "name": "python",
   "nbconvert_exporter": "python",
   "pygments_lexer": "ipython2",
   "version": "2.7.15"
  }
 },
 "nbformat": 4,
 "nbformat_minor": 2
}
